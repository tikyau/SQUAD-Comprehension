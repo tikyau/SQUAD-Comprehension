{
 "cells": [
  {
   "cell_type": "code",
   "execution_count": 1,
   "metadata": {
    "collapsed": true,
    "scrolled": false
   },
   "outputs": [],
   "source": [
    "import os\n",
    "from nltk.parse import stanford\n",
    "import nltk\n",
    "import json\n",
    "from nltk.tag.stanford import StanfordPOSTagger as POS_Tag\n",
    "\n",
    "_path_to_model = '/home/shanu/nltk/jars/english-bidirectional-distsim.tagger' \n",
    "_path_to_jar = '/home/shanu/nltk/jars/stanford-postagger.jar'\n",
    "\n",
    "st = POS_Tag(_path_to_model, _path_to_jar)\n",
    "\n",
    "from nltk.tag import StanfordNERTagger as NER_Tag\n",
    "\n",
    "NER_st = NER_Tag('/home/shanu/nltk/jars/english.all.3class.distsim.crf.ser.gz',\n",
    "               '/home/shanu/nltk/jars/stanford-ner.jar') "
   ]
  },
  {
   "cell_type": "code",
   "execution_count": 7,
   "metadata": {
    "collapsed": true
   },
   "outputs": [],
   "source": [
    "with open(\"../data/squad/data_dev.json\") as f1:\n",
    "    data_dev = json.load(f1)\n",
    "\n",
    "with open(\"../data/squad/data_test.json\") as f2:\n",
    "    data_test = json.load(f2)\n",
    "\n",
    "with open(\"../data/squad/data_train.json\") as f3:\n",
    "    data_train = json.load(f3)"
   ]
  },
  {
   "cell_type": "code",
   "execution_count": 24,
   "metadata": {
    "collapsed": true
   },
   "outputs": [],
   "source": [
    "POS_dev = []\n",
    "for i in range(len(data_dev['q'])):\n",
    "    POS_dev.append(0)\n",
    "\n",
    "POS_train = []\n",
    "for i in range(len(data_train['q'])):\n",
    "    POS_train.append(0)\n",
    "    \n",
    "POS_test = []\n",
    "for i in range(len(data_test['q'])):\n",
    "    POS_test.append(0)"
   ]
  },
  {
   "cell_type": "code",
   "execution_count": null,
   "metadata": {
    "collapsed": true
   },
   "outputs": [],
   "source": []
  },
  {
   "cell_type": "code",
   "execution_count": null,
   "metadata": {
    "collapsed": true
   },
   "outputs": [],
   "source": [
    "for k in range(len(data_dev['q'])):\n",
    "        text = data_dev['q'][k]\n",
    "    try:\n",
    "        tags = st.tag(text)\n",
    "        pos = []\n",
    "        j = 0\n",
    "        for i in range(len(text)):\n",
    "            if(text[i]==''):\n",
    "                pos.append('')\n",
    "            else:\n",
    "                try:\n",
    "                    pos.append(tags[j][1])\n",
    "                    j +=1\n",
    "                except IndexError:\n",
    "                    print(\"Index Errorrr:\", k)\n",
    "        POS_dev[k] = pos\n",
    "        print(\"PASS\", k)\n",
    "\n",
    "    except OSError:\n",
    "        print(\"Errorrr:\", k)\n"
   ]
  },
  {
   "cell_type": "code",
   "execution_count": null,
   "metadata": {
    "collapsed": true,
    "scrolled": true
   },
   "outputs": [],
   "source": [
    "with open('pos_q_dev.json', 'w') as f:\n",
    "    json.dump(POS_dev, f)"
   ]
  },
  {
   "cell_type": "code",
   "execution_count": null,
   "metadata": {
    "collapsed": true
   },
   "outputs": [],
   "source": []
  },
  {
   "cell_type": "code",
   "execution_count": 1,
   "metadata": {
    "scrolled": true
   },
   "outputs": [],
   "source": [
    "for k in range(len(data_train['q'])):\n",
    "    text = data_train['q'][k]\n",
    "    try:\n",
    "        tags = st.tag(text)\n",
    "        pos = []\n",
    "        j = 0\n",
    "        for i in range(len(text)):\n",
    "            if(text[i]==''):\n",
    "                pos.append('')\n",
    "            else:\n",
    "                try:\n",
    "                    pos.append(tags[j][1])\n",
    "                    j +=1\n",
    "                except IndexError:\n",
    "                    print(\"Index Errorrr:\", k)\n",
    "        POS_train[k] = pos\n",
    "        print(\"PASS\", k)\n",
    "\n",
    "    except OSError:\n",
    "        print(\"Errorrr:\", k)\n",
    "                      "
   ]
  },
  {
   "cell_type": "code",
   "execution_count": null,
   "metadata": {
    "collapsed": true,
    "scrolled": true
   },
   "outputs": [],
   "source": [
    "with open('pos_q_train.json', 'w') as f:\n",
    "    json.dump(POS_train, f)"
   ]
  },
  {
   "cell_type": "code",
   "execution_count": null,
   "metadata": {
    "collapsed": true
   },
   "outputs": [],
   "source": []
  },
  {
   "cell_type": "code",
   "execution_count": null,
   "metadata": {
    "collapsed": true
   },
   "outputs": [],
   "source": [
    "for k in range(len(data_test['q'])):\n",
    "    text = data_test['q'][k]\n",
    "    try:\n",
    "        tags = st.tag(text)\n",
    "        pos = []\n",
    "        j = 0\n",
    "        for i in range(len(text)):\n",
    "            if(text[i]==''):\n",
    "                pos.append('')\n",
    "            else:\n",
    "                try:\n",
    "                    pos.append(tags[j][1])\n",
    "                    j +=1\n",
    "                except IndexError:\n",
    "                    print(\"Index Errorrr:\", k)\n",
    "        POS_test[k] = pos\n",
    "        print(\"PASS\", k)\n",
    "\n",
    "    except OSError:\n",
    "        print(\"Errorrr:\", k)"
   ]
  },
  {
   "cell_type": "code",
   "execution_count": null,
   "metadata": {
    "collapsed": true,
    "scrolled": true
   },
   "outputs": [],
   "source": [
    "with open('pos_q_test.json', 'w') as f:\n",
    "    json.dump(POS_test, f)"
   ]
  },
  {
   "cell_type": "code",
   "execution_count": null,
   "metadata": {
    "collapsed": true
   },
   "outputs": [],
   "source": []
  }
 ],
 "metadata": {
  "kernelspec": {
   "display_name": "Python 3",
   "language": "python",
   "name": "python3"
  },
  "language_info": {
   "codemirror_mode": {
    "name": "ipython",
    "version": 3
   },
   "file_extension": ".py",
   "mimetype": "text/x-python",
   "name": "python",
   "nbconvert_exporter": "python",
   "pygments_lexer": "ipython3",
   "version": "3.5.4"
  }
 },
 "nbformat": 4,
 "nbformat_minor": 2
}
